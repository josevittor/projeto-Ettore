{
  "nbformat": 4,
  "nbformat_minor": 0,
  "metadata": {
    "colab": {
      "provenance": [],
      "authorship_tag": "ABX9TyP4OXZrnBiaHy0kSzC7y7/v",
      "include_colab_link": true
    },
    "kernelspec": {
      "name": "python3",
      "display_name": "Python 3"
    },
    "language_info": {
      "name": "python"
    }
  },
  "cells": [
    {
      "cell_type": "markdown",
      "metadata": {
        "id": "view-in-github",
        "colab_type": "text"
      },
      "source": [
        "<a href=\"https://colab.research.google.com/github/josevittor/projeto-Ettore/blob/main/Projeto.ipynb\" target=\"_parent\"><img src=\"https://colab.research.google.com/assets/colab-badge.svg\" alt=\"Open In Colab\"/></a>"
      ]
    },
    {
      "cell_type": "code",
      "execution_count": null,
      "metadata": {
        "id": "rDe9W26-evM9"
      },
      "outputs": [],
      "source": [
        "class LoginSystem:\n",
        "    def __init__(self):\n",
        "        self.filename = \"usuarios.txt\"\n",
        "\n",
        "    def cadastrar_usuario(self):\n",
        "        username = input(\"Digite o nome de usuário: \")\n",
        "        senha = input(\"Digite a senha: \")\n",
        "\n",
        "        with open(self.filename, \"a\") as arquivo:\n",
        "            arquivo.write(f\"{username},{senha}\\n\")\n",
        "\n",
        "        print(\"Usuário cadastrado com sucesso!\")\n",
        "\n",
        "    def fazer_login(self):\n",
        "        username = input(\"Digite o nome de usuário: \")\n",
        "        senha = input(\"Digite a senha: \")\n",
        "\n",
        "        with open(self.filename, \"r\") as arquivo:\n",
        "            for linha in arquivo:\n",
        "                dados = linha.strip().split(\",\")\n",
        "                if dados[0] == username and dados[1] == senha:\n",
        "                    print(\"Login bem-sucedido!\")\n",
        "                    return\n",
        "\n",
        "        print(\"Nome de usuário ou senha incorretos.\")\n",
        "\n",
        "\n",
        "login_system = LoginSystem()\n",
        "\n",
        "while True:\n",
        "    print(\"1 - Cadastrar usuário\")\n",
        "    print(\"2 - Fazer login\")\n",
        "    print(\"3 - Sair\")\n",
        "\n",
        "    opcao = input(\"Digite uma opção: \")\n",
        "\n",
        "    if opcao == \"1\":\n",
        "        login_system.cadastrar_usuario()\n",
        "    elif opcao == \"2\":\n",
        "        login_system.fazer_login()\n",
        "    elif opcao == \"3\":\n",
        "        break\n",
        "    else:\n",
        "        print(\"Opção inválida. Digite novamente.\")"
      ]
    }
  ]
}